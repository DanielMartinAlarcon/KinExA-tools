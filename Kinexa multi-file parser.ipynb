{
 "cells": [
  {
   "cell_type": "markdown",
   "metadata": {},
   "source": [
    "# Parsing multiple KinExA activity logs.\n",
    "The KinExA software can export an analysis file for a completed experiment (as a TSV file).  This script operates on a master folder, which itself contains sub-folders each with several TSV files.  Into each of these sub-folders, the script creates an Excel file with the relevant values from all its files, and a graphical summary of the results."
   ]
  },
  {
   "cell_type": "code",
   "execution_count": 618,
   "metadata": {
    "collapsed": true
   },
   "outputs": [],
   "source": [
    "import pandas as pd\n",
    "import numpy as np\n",
    "import matplotlib.pyplot as plt\n",
    "import matplotlib.cm as cmx\n",
    "import matplotlib.colors as colors\n",
    "import matplotlib as mpl\n",
    "import glob\n",
    "import os\n",
    "import math\n",
    "\n",
    "# We'll make sure to display the full dataframe, so we're not confused about its nature and contents.\n",
    "pd.set_option('display.expand_frame_repr', False)\n",
    "pd.set_option(\"display.max_rows\", None)"
   ]
  },
  {
   "cell_type": "markdown",
   "metadata": {},
   "source": [
    "First, figure out the path for your current directory so that you may copy it into later cells."
   ]
  },
  {
   "cell_type": "code",
   "execution_count": 619,
   "metadata": {},
   "outputs": [
    {
     "data": {
      "text/plain": [
       "'/Users/DanielMA/Root/Hinge/Data analysis/Sandbox'"
      ]
     },
     "execution_count": 619,
     "metadata": {},
     "output_type": "execute_result"
    }
   ],
   "source": [
    "os.getcwd()"
   ]
  },
  {
   "cell_type": "markdown",
   "metadata": {},
   "source": [
    "Second, switch to the folder that contains the folders of TSV files to be parsed."
   ]
  },
  {
   "cell_type": "code",
   "execution_count": 620,
   "metadata": {},
   "outputs": [
    {
     "data": {
      "text/plain": [
       "'/Users/DanielMA/Root/Hinge/Data analysis/Sandbox'"
      ]
     },
     "execution_count": 620,
     "metadata": {},
     "output_type": "execute_result"
    }
   ],
   "source": [
    "os.chdir(\"/Users/DanielMA/Root/Hinge/Data analysis/Sandbox\")\n",
    "os.getcwd()"
   ]
  },
  {
   "cell_type": "markdown",
   "metadata": {},
   "source": [
    "There's a few functions that will make our life easier."
   ]
  },
  {
   "cell_type": "code",
   "execution_count": 634,
   "metadata": {},
   "outputs": [],
   "source": [
    "def dataframes_from_TSVs(path):\n",
    "    \"\"\" Accepts a path for a system folder containing the required TSV files, and returns\n",
    "    two dataframes.  The first contains ALL information from those TSV files.  The second contains only \n",
    "    several columns that we define to be useful.  The TSV files in question are the exported activity files \n",
    "    from KinExA experiments.  No nCurves, just experiments.\"\"\"\n",
    "    \n",
    "    file_names = glob.glob(path+\"/*.tsv\")\n",
    "    file_names.sort()  # Because the list of files out of glob.glob isn't alphabetical.\n",
    "    short_names = []\n",
    "    long = pd.DataFrame()\n",
    "    \n",
    "    list_ = []\n",
    "    for name in file_names:    \n",
    "        df = pd.read_csv(name,index_col=None, header=0, sep='\\t')\n",
    "\n",
    "        # I also added a new column to each entry that contains the filename, in case it's different\n",
    "        # from the name listed in the experimental file itself.\n",
    "        short_name = name.replace(path+'/','')\n",
    "        short_name = short_name.replace('.tsv','')\n",
    "        short_names.append(short_name)\n",
    "        df['File Name'] = short_name\n",
    "        list_.append(df)\n",
    "    long = pd.concat(list_,axis=1,keys=short_names)\n",
    "    \n",
    "    # Here's where we determine the particular columns that will go into the short output.\n",
    "    list_ = []\n",
    "    for i in short_names:\n",
    "        list_.append(long[i].loc[0,['File Name','Experiment Name','Kd','CBP Molecular Concentration','Kd High', \n",
    "                                                   'Kd Low','%Error','Ratio','CBP %Activity','Sig100','NSB',\n",
    "                                                   'Analysis Type','Comments']])\n",
    "    short = pd.concat(list_, axis=1, keys=short_names)\n",
    "    \n",
    "    return (long, short)\n",
    "\n",
    "\n",
    "\n",
    "def export_df_to_Excel(df, path):\n",
    "    \"\"\" Takes a dataframe of results and a system path, and returns an Excel file of those results to that path.\"\"\"\n",
    "    parent_directory = os.path.dirname(path)\n",
    "    writer = pd.ExcelWriter(parent_directory + '/Table ' + os.path.basename(path)+ '.xlsx')\n",
    "    df.to_excel(writer,'Sheet1')\n",
    "    writer.save()\n",
    "\n",
    "\n",
    "    \n",
    "def plot_Kd(results, path):\n",
    "    \"\"\" Takes a dataframe of results (expecting the structure of the abridged dataframe from the function\n",
    "    dataframes_from_TSVs, as well as a system path.  The function displays and saves a log plot with those \n",
    "    experimental results all together.\"\"\"\n",
    "    \n",
    "    plt.clf\n",
    "\n",
    "    # The parameters for the bars are extracted from the same Results dataframe that we exported to Excel.\n",
    "    labels = results.loc['File Name']\n",
    "    kd_hi = results.loc['Kd High']\n",
    "    kd_lo = results.loc['Kd Low']\n",
    "    bar_height = kd_hi.sub(kd_lo)\n",
    "    error1 = results.loc['%Error']\n",
    "    kd1 = results.loc['Kd']\n",
    "    cbp1 = results.loc['CBP Molecular Concentration']\n",
    "    \n",
    "    \n",
    "    ind = np.arange(len(results.columns))\n",
    "\n",
    "    # The color scheme ranges from blue (low error) to red (high error), with the scale centered at 3.0 (white).\n",
    "    cmap = mpl.cm.RdBu_r\n",
    "    norm = mpl.colors.Normalize(vmin=1, vmax=5)  #Extreme values beyond this take the full red or blue color.\n",
    "    color_final = cmx.ScalarMappable(norm=norm, cmap=cmap).to_rgba(pd.to_numeric(error1))\n",
    "\n",
    "    \n",
    "#     fig, (ax1, ax2) = plt.subplots(2, 1, figsize=(10, 20))\n",
    "    fig, ax1 = plt.subplots(figsize=(15, 10))\n",
    "\n",
    "    ax1.barh(ind, bar_height,left=kd_lo, align='center', color=color_final, edgecolor='k', linewidth=1)\n",
    "\n",
    "    x_min = 1e-13\n",
    "    x_max = 1e-8\n",
    "    y_min = -0.5\n",
    "    y_max = len(results.columns)-0.5\n",
    "\n",
    "\n",
    "    ax1.set_xlim(x_min,x_max)\n",
    "    ax1.set_ylim(y_min,y_max)\n",
    "    ax1.set_xscale('log')\n",
    "\n",
    "    ax1.vlines(1e-9,-0.5,len(results.columns), linewidth=3)  #Vertical line at 1 nM.\n",
    "    ax1.vlines(1e-12,-0.5,len(results.columns), linewidth=3)  #Vertical line at 1 pM\n",
    "    ax1.grid(which=\"major\", axis='x', color='k', linestyle='--', linewidth=0.5)\n",
    "    ax1.grid(which=\"minor\", axis='x', color='b', linestyle='-', linewidth=0.1)\n",
    "    ax1.tick_params(top=True, labeltop=True)\n",
    "\n",
    "    ax1.hlines(ind+0.5, x_min, x_max, linestyle='--', linewidth=0.5)\n",
    "\n",
    "    # Red lines mark the Kd prediction for each bar.  Green lines mark the CBP concentration for that run.\n",
    "    ax1.vlines(kd1,ind-0.5,ind+0.5, linewidth=3, color='r')  #Vertical line at 1 pM\n",
    "    ax1.vlines(cbp1,ind-0.5,ind+0.5, linewidth=5, color='b')  #Vertical line at 1 pM\n",
    "\n",
    "    ax1.set_xticklabels(['','100 fM','1 pM','10 pM','100 pM','1 nM','10 nM'])\n",
    "    ax1.set_yticks(ind)\n",
    "    ax1.set_yticklabels(labels)\n",
    "    ax1.tick_params(axis='y',length=0)\n",
    "    ax1.invert_yaxis()\n",
    "    \n",
    "    data_for_table = results.loc[['File Name','Kd','%Error','CBP %Activity','Ratio']]\n",
    "    col_labels=['File Name','Kd','% Error','% CBP','Ratio']\n",
    "\n",
    "    file_names = results.loc['File Name'].values.tolist()\n",
    "    kd2 = [\"{0:.0f}\".format(x) for x in data_for_table.loc['Kd'].values / 1e-12]\n",
    "    error2 = [\"{0:.2f}\".format(x) for x in data_for_table.loc['%Error'].values]\n",
    "    cbp2 = [\"{0:.0f}\".format(round(x,0)) for x in data_for_table.loc['CBP %Activity'].values]\n",
    "    ratio2 = [\"{0:.3f}\".format(round(x,3)) for x in data_for_table.loc['Ratio'].values]\n",
    "\n",
    "    cell_text = np.array([file_names, kd2, error2, cbp2, ratio2]).T.tolist()\n",
    "    col_widths = [1]+[0.5]*4\n",
    "    \n",
    "    the_table = ax1.table(cellText=cell_text, cellColours=None,\n",
    "      cellLoc='center', colWidths=col_widths,\n",
    "      rowLabels=None, rowColours=None, rowLoc='left',\n",
    "      colLabels=col_labels, colColours=None, colLoc='center',\n",
    "      loc='center', bbox=[0.0, -0.6, 1.0, 0.5])\n",
    "    \n",
    "    the_table.auto_set_font_size(False)\n",
    "    the_table.set_fontsize (10)\n",
    "\n",
    "    parent_directory = os.path.dirname(path)\n",
    "    plt.savefig(parent_directory + '/Graph '+ os.path.basename(path) +'.png',bbox_inches='tight')  # Comment to avoid saving it over and over.\n",
    "#     plt.show()"
   ]
  },
  {
   "cell_type": "code",
   "execution_count": null,
   "metadata": {},
   "outputs": [],
   "source": []
  },
  {
   "cell_type": "code",
   "execution_count": 638,
   "metadata": {
    "scrolled": true
   },
   "outputs": [
    {
     "name": "stdout",
     "output_type": "stream",
     "text": [
      "Now processing folder: /Users/DanielMA/Root/Hinge/Data analysis/Sandbox/Y2\n",
      "Now processing folder: /Users/DanielMA/Root/Hinge/Data analysis/Sandbox/Y4\n",
      "Now processing folder: /Users/DanielMA/Root/Hinge/Data analysis/Sandbox/Fabs\n",
      "Now processing folder: /Users/DanielMA/Root/Hinge/Data analysis/Sandbox/Y1\n",
      "Now processing folder: /Users/DanielMA/Root/Hinge/Data analysis/Sandbox/Y0\n",
      "Now processing folder: /Users/DanielMA/Root/Hinge/Data analysis/Sandbox/K0\n",
      "Now processing folder: /Users/DanielMA/Root/Hinge/Data analysis/Sandbox/K1\n",
      "Now processing folder: /Users/DanielMA/Root/Hinge/Data analysis/Sandbox/O1\n",
      "Now processing folder: /Users/DanielMA/Root/Hinge/Data analysis/Sandbox/O0\n",
      "Booyah!\n"
     ]
    }
   ],
   "source": [
    "# Execute for all subfolders in the current working directory.\n",
    "plt.close(\"all\")\n",
    "for path in folder_paths:\n",
    "    print(\"Now processing folder: \"+ path)\n",
    "    long, short = dataframes_from_TSVs(path)\n",
    "    export_df_to_Excel(short, path)\n",
    "    plot_Kd(short, path)\n",
    "    \n",
    "print('Booyah!')"
   ]
  },
  {
   "cell_type": "code",
   "execution_count": null,
   "metadata": {},
   "outputs": [],
   "source": []
  },
  {
   "cell_type": "code",
   "execution_count": null,
   "metadata": {
    "collapsed": true
   },
   "outputs": [],
   "source": []
  }
 ],
 "metadata": {
  "kernelspec": {
   "display_name": "Python 3",
   "language": "python",
   "name": "python3"
  },
  "language_info": {
   "codemirror_mode": {
    "name": "ipython",
    "version": 3
   },
   "file_extension": ".py",
   "mimetype": "text/x-python",
   "name": "python",
   "nbconvert_exporter": "python",
   "pygments_lexer": "ipython3",
   "version": "3.6.1"
  }
 },
 "nbformat": 4,
 "nbformat_minor": 2
}
